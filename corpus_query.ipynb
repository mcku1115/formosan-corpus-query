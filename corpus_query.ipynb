{
  "nbformat": 4,
  "nbformat_minor": 0,
  "metadata": {
    "colab": {
      "name": "corpus_query.ipynb",
      "provenance": [],
      "collapsed_sections": []
    },
    "kernelspec": {
      "name": "python3",
      "display_name": "Python 3",
      "language": "python"
    }
  },
  "cells": [
    {
      "cell_type": "code",
      "metadata": {
        "id": "l6uVVPPlkA22"
      },
      "source": [
        "import json\n",
        "from collections import defaultdict\n",
        "import re\n",
        "from tabulate import tabulate\n",
        "import pandas as pd\n",
        "from IPython.display import HTML, display\n",
        "#%load_ext google.colab.data_table"
      ],
      "execution_count": 1,
      "outputs": []
    },
    {
      "cell_type": "code",
      "metadata": {
        "id": "GOetzXmDT3pa",
        "colab": {
          "base_uri": "https://localhost:8080/"
        },
        "outputId": "c3cb1592-31a7-462c-e89d-3683a1f83526"
      },
      "source": [
        "!pip install gdown"
      ],
      "execution_count": 2,
      "outputs": [
        {
          "output_type": "stream",
          "name": "stdout",
          "text": [
            "Requirement already satisfied: gdown in c:\\users\\mao-chang ku\\appdata\\local\\programs\\python\\python37\\lib\\site-packages (3.12.2)\n",
            "Requirement already satisfied: requests[socks] in c:\\users\\mao-chang ku\\appdata\\local\\programs\\python\\python37\\lib\\site-packages (from gdown) (2.25.0)\n",
            "Requirement already satisfied: tqdm in c:\\users\\mao-chang ku\\appdata\\local\\programs\\python\\python37\\lib\\site-packages (from gdown) (4.59.0)\n",
            "Requirement already satisfied: six in c:\\users\\mao-chang ku\\appdata\\roaming\\python\\python37\\site-packages (from gdown) (1.15.0)\n",
            "Requirement already satisfied: filelock in c:\\users\\mao-chang ku\\appdata\\local\\programs\\python\\python37\\lib\\site-packages (from gdown) (3.0.12)\n",
            "Requirement already satisfied: urllib3<1.27,>=1.21.1 in c:\\users\\mao-chang ku\\appdata\\local\\programs\\python\\python37\\lib\\site-packages (from requests[socks]->gdown) (1.26.2)\n",
            "Requirement already satisfied: idna<3,>=2.5 in c:\\users\\mao-chang ku\\appdata\\local\\programs\\python\\python37\\lib\\site-packages (from requests[socks]->gdown) (2.10)\n",
            "Requirement already satisfied: certifi>=2017.4.17 in c:\\users\\mao-chang ku\\appdata\\local\\programs\\python\\python37\\lib\\site-packages (from requests[socks]->gdown) (2020.12.5)\n",
            "Requirement already satisfied: chardet<4,>=3.0.2 in c:\\users\\mao-chang ku\\appdata\\local\\programs\\python\\python37\\lib\\site-packages (from requests[socks]->gdown) (3.0.4)\n",
            "Requirement already satisfied: PySocks!=1.5.7,>=1.5.6 in c:\\users\\mao-chang ku\\appdata\\local\\programs\\python\\python37\\lib\\site-packages (from requests[socks]->gdown) (1.7.1)\n",
            "WARNING: You are using pip version 20.3.3; however, version 21.0.1 is available.\n",
            "You should consider upgrading via the 'c:\\users\\mao-chang ku\\appdata\\local\\programs\\python\\python37\\python.exe -m pip install --upgrade pip' command.\n"
          ]
        }
      ]
    },
    {
      "cell_type": "code",
      "metadata": {
        "id": "JlveJuhlT-Vi",
        "colab": {
          "base_uri": "https://localhost:8080/"
        },
        "outputId": "49f7816e-56df-4fa3-c4d1-f7ceb116098f"
      },
      "source": [
        "!gdown --id \"1ERabe16qZQogWJkmmPUyx6DegZM2uKp3\" -O \"corpus.jsonl\""
      ],
      "execution_count": 3,
      "outputs": [
        {
          "output_type": "stream",
          "name": "stderr",
          "text": [
            "Downloading...\nFrom: https://drive.google.com/uc?id=1ERabe16qZQogWJkmmPUyx6DegZM2uKp3\nTo: c:\\Users\\Mao-Chang Ku\\Desktop\\atayal\\corpus.jsonl\n\n  0%|          | 0.00/24.8k [00:00<?, ?B/s]\n100%|██████████| 24.8k/24.8k [00:00<00:00, 24.2MB/s]\n"
          ]
        }
      ]
    },
    {
      "cell_type": "code",
      "metadata": {
        "id": "j3IMKzWlVfJo"
      },
      "source": [
        "with open(\"corpus.jsonl\", \"r\", encoding=\"utf-8\") as file:\r\n",
        "  corpus = json.load(file)\r\n"
      ],
      "execution_count": 4,
      "outputs": []
    },
    {
      "cell_type": "code",
      "metadata": {
        "id": "GC_kBpLarHpd"
      },
      "source": [
        "word_index = {}\r\n",
        "\r\n",
        "for article_idx, article in enumerate(corpus):\r\n",
        "  for sentence_idx, sentence in enumerate(article['atayal']):\r\n",
        "    for token_idx, token in enumerate(sentence):\r\n",
        "      locator = [article_idx, sentence_idx, token_idx]\r\n",
        "      if token['word'] not in word_index:\r\n",
        "        word_index[token['word']] = [locator]\r\n",
        "      else:\r\n",
        "        word_index[token['word']].append(locator)"
      ],
      "execution_count": 5,
      "outputs": []
    },
    {
      "cell_type": "code",
      "metadata": {
        "id": "Fo4mnPr0kuE9"
      },
      "source": [
        "sent_index = {}\r\n",
        "\r\n",
        "for article_idx, article in enumerate(corpus):\r\n",
        "  for sentence_idx, sentence in enumerate(article['mandarin']):\r\n",
        "    locator = [article_idx, sentence_idx, token_idx]\r\n",
        "    for i in range(0, len(sentence)):\r\n",
        "      if sentence[i] not in sent_index:\r\n",
        "        sent_index[sentence[i]] = [locator]\r\n",
        "      else:\r\n",
        "        sent_index[sentence[i]].append(locator)"
      ],
      "execution_count": 6,
      "outputs": []
    },
    {
      "cell_type": "code",
      "metadata": {
        "colab": {
          "base_uri": "https://localhost:8080/"
        },
        "id": "BH9lWjGrxRB7",
        "outputId": "b7b2922c-56db-4575-f885-a52a3c1d02f3"
      },
      "source": [
        "word_index['qutux']"
      ],
      "execution_count": 7,
      "outputs": [
        {
          "output_type": "execute_result",
          "data": {
            "text/plain": [
              "[[0, 1, 4],\n",
              " [0, 2, 0],\n",
              " [0, 3, 6],\n",
              " [0, 6, 1],\n",
              " [0, 9, 1],\n",
              " [0, 27, 1],\n",
              " [1, 1, 6],\n",
              " [1, 3, 4],\n",
              " [1, 5, 2],\n",
              " [1, 9, 3],\n",
              " [1, 9, 4],\n",
              " [1, 12, 1],\n",
              " [1, 18, 1],\n",
              " [1, 23, 1],\n",
              " [1, 31, 8],\n",
              " [1, 32, 1],\n",
              " [1, 44, 6]]"
            ]
          },
          "metadata": {},
          "execution_count": 7
        }
      ]
    },
    {
      "cell_type": "code",
      "metadata": {
        "id": "9QuS-3HedqEC"
      },
      "source": [
        "def word_freq(word):\r\n",
        "    return len(word_index[word])"
      ],
      "execution_count": 8,
      "outputs": []
    },
    {
      "cell_type": "code",
      "metadata": {
        "colab": {
          "base_uri": "https://localhost:8080/"
        },
        "id": "r_rYknJtfNwu",
        "outputId": "adbdd8c1-c188-4d7f-b013-247d7c2edc6e"
      },
      "source": [
        "word_freq('qutux')"
      ],
      "execution_count": 9,
      "outputs": [
        {
          "output_type": "execute_result",
          "data": {
            "text/plain": [
              "17"
            ]
          },
          "metadata": {},
          "execution_count": 9
        }
      ]
    },
    {
      "cell_type": "code",
      "metadata": {
        "colab": {
          "base_uri": "https://localhost:8080/"
        },
        "id": "0JjcTrA7fHjy",
        "outputId": "0e73a287-53e1-4f58-9e60-594c7f631ce6"
      },
      "source": [
        "token_sum = 0\r\n",
        "for word in word_index:\r\n",
        "    token_sum += word_freq(word)\r\n",
        "print(token_sum)"
      ],
      "execution_count": 10,
      "outputs": [
        {
          "output_type": "stream",
          "name": "stdout",
          "text": [
            "919\n"
          ]
        }
      ]
    },
    {
      "cell_type": "code",
      "metadata": {
        "id": "Q7KbynJ_fsuU"
      },
      "source": [
        "def query(token_value, window_size=5, language='atayal'):\r\n",
        "  results = []\r\n",
        "  for locator in filter_a_regex_token(token_value, language):\r\n",
        "    result = generate_concordance_line(token_value, locator, window_size, language)\r\n",
        "    results.append(result)\r\n",
        "\r\n",
        "  if language == 'atayal':\r\n",
        "    col_order_atayal = ['article_id', 'sentence_id', 'left', 'keyword', 'right', 'Atayal', 'Mandarin']\r\n",
        "    return pd.DataFrame(results, columns=col_order_atayal)\r\n",
        "  \r\n",
        "  else:\r\n",
        "    col_order_mandarin = ['article_id', 'sentence_id', 'keyword', 'Mandarin', 'Atayal']\r\n",
        "    return pd.DataFrame(results, columns=col_order_mandarin)\r\n",
        "\r\n",
        "\r\n",
        "def generate_concordance_line(token_value, locator, window_size, language):\r\n",
        "  if language == 'atayal':\r\n",
        "\r\n",
        "    a_idx = locator[0]\r\n",
        "    s_idx = locator[1]\r\n",
        "    t_idx = locator[2]\r\n",
        "    sentence = corpus[a_idx]['atayal'][s_idx]\r\n",
        "\r\n",
        "    each_concordance_line = {\r\n",
        "        \"article_id\": a_idx,\r\n",
        "        \"sentence_id\": s_idx,\r\n",
        "        \"left\": \"\",\r\n",
        "        \"keyword\": sentence[t_idx][\"word\"],\r\n",
        "        \"right\": \"\",\r\n",
        "        \"Atayal\": \"\",\r\n",
        "        \"Mandarin\": corpus[a_idx]['mandarin'][s_idx][0]\r\n",
        "    }\r\n",
        "\r\n",
        "    # 安全邊界\r\n",
        "    safe_left_bound = max(0, t_idx - window_size)\r\n",
        "    safe_right_bound = min(len(sentence), t_idx + window_size + 1)\r\n",
        "\r\n",
        "    # 左邊部分\r\n",
        "    for token in sentence[safe_left_bound: t_idx]:\r\n",
        "      each_concordance_line[\"left\"] += ' '+token[\"word\"]\r\n",
        "\r\n",
        "    # 右邊部分\r\n",
        "    for token in sentence[t_idx + 1: safe_right_bound]:\r\n",
        "      each_concordance_line[\"right\"] += ' '+token[\"word\"]\r\n",
        "    \r\n",
        "    # 整句\r\n",
        "    for token in sentence:\r\n",
        "      each_concordance_line[\"Atayal\"] += ' '+token[\"word\"]\r\n",
        "\r\n",
        "    return each_concordance_line\r\n",
        "  \r\n",
        "  else:\r\n",
        "\r\n",
        "    a_idx = locator[0]\r\n",
        "    s_idx = locator[1]\r\n",
        "    sentence = corpus[a_idx]['mandarin'][s_idx][0]\r\n",
        "\r\n",
        "    each_concordance_line = {\r\n",
        "        \"article_id\": a_idx,\r\n",
        "        \"sentence_id\": s_idx,\r\n",
        "        \"keyword\": token_value,\r\n",
        "        \"Mandarin\": sentence,\r\n",
        "        \"Atayal\": \"\"\r\n",
        "    }\r\n",
        "\r\n",
        "    for token in corpus[a_idx]['atayal'][s_idx]:\r\n",
        "      each_concordance_line[\"Atayal\"] += ' '+token[\"word\"]\r\n",
        "\r\n",
        "    return each_concordance_line\r\n",
        "\r\n",
        "def filter_a_regex_token(token_value, language):\r\n",
        "  results = []\r\n",
        "  index_to_use = None\r\n",
        "\r\n",
        "  if language == \"atayal\":\r\n",
        "    index_to_use = word_index   \r\n",
        "  elif language == \"mandarin\":\r\n",
        "    index_to_use = sent_index\r\n",
        "  else:\r\n",
        "    raise ValueError('參數 language 只能是 \"atayal\" 或者 \"mandarin\"')\r\n",
        "\r\n",
        "  matched_tokens = [token for token in index_to_use.keys() if re.search(token_value, token)]\r\n",
        "    \r\n",
        "  for token in matched_tokens:\r\n",
        "    for locator in index_to_use[token]:\r\n",
        "      results.append(locator)\r\n",
        "    \r\n",
        "  return results\r\n"
      ],
      "execution_count": 11,
      "outputs": []
    },
    {
      "cell_type": "code",
      "metadata": {
        "colab": {
          "base_uri": "https://localhost:8080/",
          "height": 674
        },
        "id": "g-JljXj4gY81",
        "outputId": "43321cde-13f0-4432-fb01-e42c66ea7c60"
      },
      "source": [
        "query('qutux')"
      ],
      "execution_count": 12,
      "outputs": [
        {
          "output_type": "execute_result",
          "data": {
            "text/plain": [
              "    article_id  sentence_id                       left   keyword  \\\n",
              "0            0            1      raral raral hiya maki     qutux   \n",
              "1            0            2                                qutux   \n",
              "2            0            3      nha qasa ga, mluw kya     qutux   \n",
              "3            0            6                       kmal     qutux   \n",
              "4            0            9                       maki     qutux   \n",
              "5            0           27                       kmal     qutux   \n",
              "6            1            1     squ raral hiya qa maki     qutux   \n",
              "7            1            3          ana su wayal lama     qutux   \n",
              "8            1            5               minnxal maki     qutux   \n",
              "9            1            9               nanu yasa qu     qutux   \n",
              "10           1            9         nanu yasa qu qutux     qutux   \n",
              "11           1           12                       ki’a     qutux   \n",
              "12           1           18                       ki’a     qutux   \n",
              "13           1           23                        kya     qutux   \n",
              "14           1           31   mrhuw hiya, si nya kyapi     qutux   \n",
              "15           1           32                       kmal     qutux   \n",
              "16           1           44    squ kska tuqiy lga kmal     qutux   \n",
              "17           1           30                “uwah magal  pinqutux   \n",
              "\n",
              "                                  right  \\\n",
              "0          ryax, trang qmisan ka ghzyaq   \n",
              "1    cinklgan squliq minnwah mcisal squ   \n",
              "2        baytunux na mkrakis kneril uzi   \n",
              "3           qu bnkis mha: “llaqi! hngaw   \n",
              "4           qu mrkyas na mlikuy minnluw   \n",
              "5             yaki mha: “aki ta minsuna   \n",
              "6        squliq, hlngat iyal qu pqzinah   \n",
              "7              ryax qu squliq hiya mga,   \n",
              "8         ryax mga, mkayal kwara squliq   \n",
              "9           qutux ngasal si ptbuci smxu   \n",
              "10             ngasal si ptbuci smxu qu   \n",
              "11        ryax pinhkngyan nha lga tehuk   \n",
              "12           uruw qu qinlupan nha lmga,   \n",
              "13               gluw nha cyux hmwaw te   \n",
              "14              krahu knutan hi qasa ru   \n",
              "15                     qu gluw nha mha:   \n",
              "16                        gluw nha mha:   \n",
              "17             knutan ha. teta simu ini   \n",
              "\n",
              "                                               Atayal  \\\n",
              "0    raral raral hiya maki qutux ryax, trang qmisa...   \n",
              "1    qutux cinklgan squliq minnwah mcisal squ lpyu...   \n",
              "2    cinklgan nha qasa ga, mluw kya qutux baytunux...   \n",
              "3    kmal qutux qu bnkis mha: “llaqi! hngaw ru aki...   \n",
              "4    maki qutux qu mrkyas na mlikuy minnluw lha, t...   \n",
              "5    kmal qutux yaki mha: “aki ta minsuna cikay ha...   \n",
              "6    nanu squ raral hiya qa maki qutux squliq, hln...   \n",
              "7    ana su wayal lama qutux ryax qu squliq hiya m...   \n",
              "8    minnxal maki qutux ryax mga, mkayal kwara squ...   \n",
              "9    nanu yasa qu qutux qutux ngasal si ptbuci smx...   \n",
              "10   nanu yasa qu qutux qutux ngasal si ptbuci smx...   \n",
              "11   ki’a qutux ryax pinhkngyan nha lga tehuk squ ...   \n",
              "12   ki’a qutux uruw qu qinlupan nha lmga, cyux ta...   \n",
              "13   kya qutux gluw nha cyux hmwaw te klbing mha: ...   \n",
              "14   mharu tuliq Yekliy mrhuw hiya, si nya kyapi q...   \n",
              "15                        kmal qutux qu gluw nha mha:   \n",
              "16   maki squ kska tuqiy lga kmal qutux gluw nha mha:   \n",
              "17   “uwah magal pinqutux knutan ha. teta simu ini...   \n",
              "\n",
              "                                             Mandarin  \n",
              "0                      很久很久以前有這麼一天，是值非常寒冷的冬季，天上瑞雪亦紛飛。  \n",
              "1           有一群泰雅族人到遠方親戚的部落探訪之後，頂著刺骨寒風白雪，此刻正走在回鄉的路途中。  \n",
              "2                             這一隊人馬之中跟隨著一位年輕又標緻的青春少女。  \n",
              "3                 這時隊中一位長老對大家說：「孩子們！讓我們休息片刻吧，順便烤火取暖」。  \n",
              "4                          大夥中有一位跟隨的年輕男士，他被稱為瑪萊‧巴杜先生。  \n",
              "5   其中一位老婦人對他們說：「我們應該喘喘息一下，反正我們快要到家了好嗎？」大夥都同意她的看法，...  \n",
              "6              據說，曾有這樣一位泰雅人先輩，他的腳程無人能出其右，是一位健步如飛的小伙子，  \n",
              "7                     即使有比他先走上一天，他卻能輕易地在路途中追上比他先走的人們。  \n",
              "8        據說有一天，所有同樣和長腳耶哥立先生同住在一個部落的泰雅族人，聚會討論時一位長老這樣說：  \n",
              "9                                        因此家家戶戶各自忙著輾米  \n",
              "10                                       因此家家戶戶各自忙著輾米  \n",
              "11                                  約莫走了一整天的路程終於抵達獵場，  \n",
              "12        當行獵阻擊野獸伸展到第二座山溝時，號兵長腳耶哥立先生遂大聲高喊，讓大夥能進行緊急備戰，  \n",
              "13                     獵手之中也隨著在下方遠處高喊：「山鹿射中了……山鹿射中了」。  \n",
              "14       長腳耶哥立先生快手快腳揀了一個特大號的肉塊，隨即走向山涯邊離他們不遠的地方蹲坐狼吞虎嚥。  \n",
              "15                                          其中有獵友對他說：  \n",
              "16                                      在回家的路途有一位獵友說：  \n",
              "17    m:「來吧！兄弟們每人各揀一塊一起享受森林的美食，讓大家驅去風寒（按：此舉乃泰雅風俗是也）」。  "
            ],
            "text/html": "<div>\n<style scoped>\n    .dataframe tbody tr th:only-of-type {\n        vertical-align: middle;\n    }\n\n    .dataframe tbody tr th {\n        vertical-align: top;\n    }\n\n    .dataframe thead th {\n        text-align: right;\n    }\n</style>\n<table border=\"1\" class=\"dataframe\">\n  <thead>\n    <tr style=\"text-align: right;\">\n      <th></th>\n      <th>article_id</th>\n      <th>sentence_id</th>\n      <th>left</th>\n      <th>keyword</th>\n      <th>right</th>\n      <th>Atayal</th>\n      <th>Mandarin</th>\n    </tr>\n  </thead>\n  <tbody>\n    <tr>\n      <th>0</th>\n      <td>0</td>\n      <td>1</td>\n      <td>raral raral hiya maki</td>\n      <td>qutux</td>\n      <td>ryax, trang qmisan ka ghzyaq</td>\n      <td>raral raral hiya maki qutux ryax, trang qmisa...</td>\n      <td>很久很久以前有這麼一天，是值非常寒冷的冬季，天上瑞雪亦紛飛。</td>\n    </tr>\n    <tr>\n      <th>1</th>\n      <td>0</td>\n      <td>2</td>\n      <td></td>\n      <td>qutux</td>\n      <td>cinklgan squliq minnwah mcisal squ</td>\n      <td>qutux cinklgan squliq minnwah mcisal squ lpyu...</td>\n      <td>有一群泰雅族人到遠方親戚的部落探訪之後，頂著刺骨寒風白雪，此刻正走在回鄉的路途中。</td>\n    </tr>\n    <tr>\n      <th>2</th>\n      <td>0</td>\n      <td>3</td>\n      <td>nha qasa ga, mluw kya</td>\n      <td>qutux</td>\n      <td>baytunux na mkrakis kneril uzi</td>\n      <td>cinklgan nha qasa ga, mluw kya qutux baytunux...</td>\n      <td>這一隊人馬之中跟隨著一位年輕又標緻的青春少女。</td>\n    </tr>\n    <tr>\n      <th>3</th>\n      <td>0</td>\n      <td>6</td>\n      <td>kmal</td>\n      <td>qutux</td>\n      <td>qu bnkis mha: “llaqi! hngaw</td>\n      <td>kmal qutux qu bnkis mha: “llaqi! hngaw ru aki...</td>\n      <td>這時隊中一位長老對大家說：「孩子們！讓我們休息片刻吧，順便烤火取暖」。</td>\n    </tr>\n    <tr>\n      <th>4</th>\n      <td>0</td>\n      <td>9</td>\n      <td>maki</td>\n      <td>qutux</td>\n      <td>qu mrkyas na mlikuy minnluw</td>\n      <td>maki qutux qu mrkyas na mlikuy minnluw lha, t...</td>\n      <td>大夥中有一位跟隨的年輕男士，他被稱為瑪萊‧巴杜先生。</td>\n    </tr>\n    <tr>\n      <th>5</th>\n      <td>0</td>\n      <td>27</td>\n      <td>kmal</td>\n      <td>qutux</td>\n      <td>yaki mha: “aki ta minsuna</td>\n      <td>kmal qutux yaki mha: “aki ta minsuna cikay ha...</td>\n      <td>其中一位老婦人對他們說：「我們應該喘喘息一下，反正我們快要到家了好嗎？」大夥都同意她的看法，...</td>\n    </tr>\n    <tr>\n      <th>6</th>\n      <td>1</td>\n      <td>1</td>\n      <td>squ raral hiya qa maki</td>\n      <td>qutux</td>\n      <td>squliq, hlngat iyal qu pqzinah</td>\n      <td>nanu squ raral hiya qa maki qutux squliq, hln...</td>\n      <td>據說，曾有這樣一位泰雅人先輩，他的腳程無人能出其右，是一位健步如飛的小伙子，</td>\n    </tr>\n    <tr>\n      <th>7</th>\n      <td>1</td>\n      <td>3</td>\n      <td>ana su wayal lama</td>\n      <td>qutux</td>\n      <td>ryax qu squliq hiya mga,</td>\n      <td>ana su wayal lama qutux ryax qu squliq hiya m...</td>\n      <td>即使有比他先走上一天，他卻能輕易地在路途中追上比他先走的人們。</td>\n    </tr>\n    <tr>\n      <th>8</th>\n      <td>1</td>\n      <td>5</td>\n      <td>minnxal maki</td>\n      <td>qutux</td>\n      <td>ryax mga, mkayal kwara squliq</td>\n      <td>minnxal maki qutux ryax mga, mkayal kwara squ...</td>\n      <td>據說有一天，所有同樣和長腳耶哥立先生同住在一個部落的泰雅族人，聚會討論時一位長老這樣說：</td>\n    </tr>\n    <tr>\n      <th>9</th>\n      <td>1</td>\n      <td>9</td>\n      <td>nanu yasa qu</td>\n      <td>qutux</td>\n      <td>qutux ngasal si ptbuci smxu</td>\n      <td>nanu yasa qu qutux qutux ngasal si ptbuci smx...</td>\n      <td>因此家家戶戶各自忙著輾米</td>\n    </tr>\n    <tr>\n      <th>10</th>\n      <td>1</td>\n      <td>9</td>\n      <td>nanu yasa qu qutux</td>\n      <td>qutux</td>\n      <td>ngasal si ptbuci smxu qu</td>\n      <td>nanu yasa qu qutux qutux ngasal si ptbuci smx...</td>\n      <td>因此家家戶戶各自忙著輾米</td>\n    </tr>\n    <tr>\n      <th>11</th>\n      <td>1</td>\n      <td>12</td>\n      <td>ki’a</td>\n      <td>qutux</td>\n      <td>ryax pinhkngyan nha lga tehuk</td>\n      <td>ki’a qutux ryax pinhkngyan nha lga tehuk squ ...</td>\n      <td>約莫走了一整天的路程終於抵達獵場，</td>\n    </tr>\n    <tr>\n      <th>12</th>\n      <td>1</td>\n      <td>18</td>\n      <td>ki’a</td>\n      <td>qutux</td>\n      <td>uruw qu qinlupan nha lmga,</td>\n      <td>ki’a qutux uruw qu qinlupan nha lmga, cyux ta...</td>\n      <td>當行獵阻擊野獸伸展到第二座山溝時，號兵長腳耶哥立先生遂大聲高喊，讓大夥能進行緊急備戰，</td>\n    </tr>\n    <tr>\n      <th>13</th>\n      <td>1</td>\n      <td>23</td>\n      <td>kya</td>\n      <td>qutux</td>\n      <td>gluw nha cyux hmwaw te</td>\n      <td>kya qutux gluw nha cyux hmwaw te klbing mha: ...</td>\n      <td>獵手之中也隨著在下方遠處高喊：「山鹿射中了……山鹿射中了」。</td>\n    </tr>\n    <tr>\n      <th>14</th>\n      <td>1</td>\n      <td>31</td>\n      <td>mrhuw hiya, si nya kyapi</td>\n      <td>qutux</td>\n      <td>krahu knutan hi qasa ru</td>\n      <td>mharu tuliq Yekliy mrhuw hiya, si nya kyapi q...</td>\n      <td>長腳耶哥立先生快手快腳揀了一個特大號的肉塊，隨即走向山涯邊離他們不遠的地方蹲坐狼吞虎嚥。</td>\n    </tr>\n    <tr>\n      <th>15</th>\n      <td>1</td>\n      <td>32</td>\n      <td>kmal</td>\n      <td>qutux</td>\n      <td>qu gluw nha mha:</td>\n      <td>kmal qutux qu gluw nha mha:</td>\n      <td>其中有獵友對他說：</td>\n    </tr>\n    <tr>\n      <th>16</th>\n      <td>1</td>\n      <td>44</td>\n      <td>squ kska tuqiy lga kmal</td>\n      <td>qutux</td>\n      <td>gluw nha mha:</td>\n      <td>maki squ kska tuqiy lga kmal qutux gluw nha mha:</td>\n      <td>在回家的路途有一位獵友說：</td>\n    </tr>\n    <tr>\n      <th>17</th>\n      <td>1</td>\n      <td>30</td>\n      <td>“uwah magal</td>\n      <td>pinqutux</td>\n      <td>knutan ha. teta simu ini</td>\n      <td>“uwah magal pinqutux knutan ha. teta simu ini...</td>\n      <td>m:「來吧！兄弟們每人各揀一塊一起享受森林的美食，讓大家驅去風寒（按：此舉乃泰雅風俗是也）」。</td>\n    </tr>\n  </tbody>\n</table>\n</div>"
          },
          "metadata": {},
          "execution_count": 12
        }
      ]
    },
    {
      "cell_type": "code",
      "metadata": {
        "colab": {
          "base_uri": "https://localhost:8080/",
          "height": 175
        },
        "id": "WXUdp_ouEQ9m",
        "outputId": "c675b2d4-6778-4700-8652-c5d5fee99979"
      },
      "source": [
        "query('一個', language='mandarin')"
      ],
      "execution_count": 13,
      "outputs": [
        {
          "output_type": "execute_result",
          "data": {
            "text/plain": [
              "   article_id  sentence_id keyword  \\\n",
              "0           0           33      一個   \n",
              "1           1            5      一個   \n",
              "2           1           17      一個   \n",
              "3           1           31      一個   \n",
              "\n",
              "                                        Mandarin  \\\n",
              "0  就在這個節骨眼上，突然有一個身影“wax”，跌落下去的就是不畏寒冷且強壯的瑪萊‧巴杜先生，   \n",
              "1   據說有一天，所有同樣和長腳耶哥立先生同住在一個部落的泰雅族人，聚會討論時一位長老這樣說：   \n",
              "2   因為沒有一個獵手能勝任尾隨追擊野獸的任務，我腳長動作比較快速」，大家言聽計從就分頭進行。   \n",
              "3   長腳耶哥立先生快手快腳揀了一個特大號的肉塊，隨即走向山涯邊離他們不遠的地方蹲坐狼吞虎嚥。   \n",
              "\n",
              "                                              Atayal  \n",
              "0   taqu ke’ kasa lgwah, wayal mha “wax” suruw na...  \n",
              "1   minnxal maki qutux ryax mga, mkayal kwara squ...  \n",
              "2   swaga iyat simu pthuyay tpucing mhzyaw qsinuw...  \n",
              "3   mharu tuliq Yekliy mrhuw hiya, si nya kyapi q...  "
            ],
            "text/html": "<div>\n<style scoped>\n    .dataframe tbody tr th:only-of-type {\n        vertical-align: middle;\n    }\n\n    .dataframe tbody tr th {\n        vertical-align: top;\n    }\n\n    .dataframe thead th {\n        text-align: right;\n    }\n</style>\n<table border=\"1\" class=\"dataframe\">\n  <thead>\n    <tr style=\"text-align: right;\">\n      <th></th>\n      <th>article_id</th>\n      <th>sentence_id</th>\n      <th>keyword</th>\n      <th>Mandarin</th>\n      <th>Atayal</th>\n    </tr>\n  </thead>\n  <tbody>\n    <tr>\n      <th>0</th>\n      <td>0</td>\n      <td>33</td>\n      <td>一個</td>\n      <td>就在這個節骨眼上，突然有一個身影“wax”，跌落下去的就是不畏寒冷且強壯的瑪萊‧巴杜先生，</td>\n      <td>taqu ke’ kasa lgwah, wayal mha “wax” suruw na...</td>\n    </tr>\n    <tr>\n      <th>1</th>\n      <td>1</td>\n      <td>5</td>\n      <td>一個</td>\n      <td>據說有一天，所有同樣和長腳耶哥立先生同住在一個部落的泰雅族人，聚會討論時一位長老這樣說：</td>\n      <td>minnxal maki qutux ryax mga, mkayal kwara squ...</td>\n    </tr>\n    <tr>\n      <th>2</th>\n      <td>1</td>\n      <td>17</td>\n      <td>一個</td>\n      <td>因為沒有一個獵手能勝任尾隨追擊野獸的任務，我腳長動作比較快速」，大家言聽計從就分頭進行。</td>\n      <td>swaga iyat simu pthuyay tpucing mhzyaw qsinuw...</td>\n    </tr>\n    <tr>\n      <th>3</th>\n      <td>1</td>\n      <td>31</td>\n      <td>一個</td>\n      <td>長腳耶哥立先生快手快腳揀了一個特大號的肉塊，隨即走向山涯邊離他們不遠的地方蹲坐狼吞虎嚥。</td>\n      <td>mharu tuliq Yekliy mrhuw hiya, si nya kyapi q...</td>\n    </tr>\n  </tbody>\n</table>\n</div>"
          },
          "metadata": {},
          "execution_count": 13
        }
      ]
    }
  ]
}